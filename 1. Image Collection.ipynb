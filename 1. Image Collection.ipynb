{
 "cells": [
  {
   "cell_type": "markdown",
   "metadata": {},
   "source": [
    "# 1. Import Dependencies"
   ]
  },
  {
   "cell_type": "code",
   "execution_count": 1,
   "metadata": {},
   "outputs": [
    {
     "name": "stdout",
     "output_type": "stream",
     "text": [
      "Requirement already satisfied: opencv-python in c:\\users\\admin\\anaconda4\\lib\\site-packages (4.5.3.56)\n",
      "Requirement already satisfied: numpy>=1.17.3 in c:\\users\\admin\\anaconda4\\lib\\site-packages (from opencv-python) (1.18.5)\n"
     ]
    }
   ],
   "source": [
    "!pip install opencv-python"
   ]
  },
  {
   "cell_type": "code",
   "execution_count": 1,
   "metadata": {},
   "outputs": [],
   "source": [
    "# Import opencv\n",
    "import cv2 \n",
    "\n",
    "# Import uuid\n",
    "import uuid\n",
    "\n",
    "# Import Operating System\n",
    "\n",
    "import os\n",
    "\n",
    "# Import time\n",
    "import time"
   ]
  },
  {
   "cell_type": "markdown",
   "metadata": {},
   "source": [
    "# 2. Define Images to Collect"
   ]
  },
  {
   "cell_type": "code",
   "execution_count": 2,
   "metadata": {},
   "outputs": [],
   "source": [
    "labels = ['blueberries', 'orange', 'pepsi', 'sevenup', 'beans', 'tomatoes']\n",
    "number_imgs = 5"
   ]
  },
  {
   "cell_type": "markdown",
   "metadata": {},
   "source": [
    "# 3. Setup Folders "
   ]
  },
  {
   "cell_type": "code",
   "execution_count": 5,
   "metadata": {},
   "outputs": [],
   "source": [
    "#IMAGES_PATH = os.path.join('Tensorflow', 'workspace', 'images', 'collectedimages')\n",
    "IMAGES_PATH = 'C:\\\\Users\\\\Admin\\\\Documents\\\\masters-project\\\\resources\\\\labelling'"
   ]
  },
  {
   "cell_type": "code",
   "execution_count": 3,
   "metadata": {},
   "outputs": [
    {
     "data": {
      "text/plain": [
       "'C:\\\\Users\\\\Admin\\\\Documents\\\\masters-project\\\\src\\\\dev\\\\utils'"
      ]
     },
     "execution_count": 3,
     "metadata": {},
     "output_type": "execute_result"
    }
   ],
   "source": [
    "os.getcwd()"
   ]
  },
  {
   "cell_type": "code",
   "execution_count": 6,
   "metadata": {},
   "outputs": [],
   "source": [
    "#if not os.path.exists(IMAGES_PATH):\n",
    " #   if os.name == 'posix':\n",
    "  #      !mkdir -p {IMAGES_PATH}\n",
    "   # if os.name == 'nt':\n",
    "    #     !mkdir {IMAGES_PATH}\n",
    "for label in labels:\n",
    "    path = os.path.join(IMAGES_PATH, label)\n",
    "    if not os.path.exists(path):\n",
    "        !mkdir {path}"
   ]
  },
  {
   "cell_type": "markdown",
   "metadata": {},
   "source": [
    "# 4. Capture Images"
   ]
  },
  {
   "cell_type": "code",
   "execution_count": 8,
   "metadata": {},
   "outputs": [
    {
     "name": "stdout",
     "output_type": "stream",
     "text": [
      "Collecting images for thumbsup\n",
      "Collecting image 0\n",
      "Collecting image 1\n",
      "Collecting image 2\n",
      "Collecting image 3\n",
      "Collecting image 4\n",
      "Collecting images for thumbsdown\n",
      "Collecting image 0\n",
      "Collecting image 1\n",
      "Collecting image 2\n",
      "Collecting image 3\n",
      "Collecting image 4\n",
      "Collecting images for thankyou\n",
      "Collecting image 0\n",
      "Collecting image 1\n",
      "Collecting image 2\n",
      "Collecting image 3\n",
      "Collecting image 4\n",
      "Collecting images for livelong\n",
      "Collecting image 0\n",
      "Collecting image 1\n",
      "Collecting image 2\n",
      "Collecting image 3\n",
      "Collecting image 4\n"
     ]
    }
   ],
   "source": [
    "for label in labels:\n",
    "    cap = cv2.VideoCapture(0)\n",
    "    print('Collecting images for {}'.format(label))\n",
    "    time.sleep(5)\n",
    "    for imgnum in range(number_imgs):\n",
    "        print('Collecting image {}'.format(imgnum))\n",
    "        ret, frame = cap.read()\n",
    "        imgname = os.path.join(IMAGES_PATH,label,label+'.'+'{}.jpg'.format(str(uuid.uuid1())))\n",
    "        cv2.imwrite(imgname, frame)\n",
    "        cv2.imshow('frame', frame)\n",
    "        time.sleep(2)\n",
    "\n",
    "        if cv2.waitKey(1) & 0xFF == ord('q'):\n",
    "            break\n",
    "cap.release()\n",
    "cv2.destroyAllWindows()"
   ]
  },
  {
   "cell_type": "markdown",
   "metadata": {},
   "source": [
    "# 5. Image Labelling"
   ]
  },
  {
   "cell_type": "code",
   "execution_count": 1,
   "metadata": {},
   "outputs": [
    {
     "name": "stdout",
     "output_type": "stream",
     "text": [
      "Package                            Version\n",
      "---------------------------------- -------------------\n",
      "alabaster                          0.7.12\n",
      "anaconda-client                    1.7.2\n",
      "anaconda-navigator                 1.9.12\n",
      "anaconda-project                   0.8.3\n",
      "appdirs                            1.4.4\n",
      "argh                               0.26.2\n",
      "asn1crypto                         1.3.0\n",
      "astroid                            2.4.2\n",
      "astropy                            4.0.1.post1\n",
      "atomicwrites                       1.4.0\n",
      "attrs                              19.3.0\n",
      "autopep8                           1.5.3\n",
      "Babel                              2.8.0\n",
      "backcall                           0.2.0\n",
      "backports.functools-lru-cache      1.6.4\n",
      "backports.shutil-get-terminal-size 1.0.0\n",
      "backports.tempfile                 1.0\n",
      "backports.weakref                  1.0.post1\n",
      "bcrypt                             3.1.7\n",
      "beautifulsoup4                     4.9.1\n",
      "bitarray                           1.4.0\n",
      "bitarray-hardbyte                  1.5.2\n",
      "bkcharts                           0.2\n",
      "bleach                             3.1.5\n",
      "blis                               0.7.4\n",
      "bokeh                              2.1.1\n",
      "boto                               2.49.0\n",
      "Bottleneck                         1.3.2\n",
      "brotlipy                           0.7.0\n",
      "browsermob-proxy                   0.8.0\n",
      "catalogue                          2.0.4\n",
      "certifi                            2020.6.20\n",
      "cffi                               1.14.0\n",
      "chardet                            3.0.4\n",
      "click                              7.1.2\n",
      "cloudpickle                        1.5.0\n",
      "clyent                             1.2.2\n",
      "colorama                           0.4.3\n",
      "comtypes                           1.1.7\n",
      "conda                              4.10.3\n",
      "conda-build                        3.18.11\n",
      "conda-package-handling             1.7.3\n",
      "conda-verify                       3.4.2\n",
      "configparser                       5.0.2\n",
      "contextlib2                        0.6.0.post1\n",
      "coverage                           5.5\n",
      "crayons                            0.4.0\n",
      "cryptography                       2.9.2\n",
      "cycler                             0.10.0\n",
      "cymem                              2.0.5\n",
      "Cython                             0.29.22\n",
      "cytoolz                            0.10.1\n",
      "dask                               2.20.0\n",
      "decorator                          4.4.2\n",
      "defusedxml                         0.6.0\n",
      "diff-match-patch                   20200713\n",
      "distributed                        2.20.0\n",
      "docutils                           0.16\n",
      "entrypoints                        0.3\n",
      "et-xmlfile                         1.0.1\n",
      "fastai                             2.3.1\n",
      "fastapi                            0.63.0\n",
      "fastcache                          1.1.0\n",
      "fastcore                           1.3.20\n",
      "fastprogress                       1.0.0\n",
      "filelock                           3.0.12\n",
      "flake8                             3.8.3\n",
      "Flask                              1.1.2\n",
      "fsspec                             0.7.4\n",
      "ftfy                               4.4.3\n",
      "future                             0.18.2\n",
      "geckodriver-autoinstaller          0.1.0\n",
      "gevent                             20.6.2\n",
      "glob2                              0.7\n",
      "gmpy2                              2.0.8\n",
      "greenlet                           0.4.16\n",
      "h11                                0.12.0\n",
      "h2                                 4.0.0\n",
      "h5py                               2.10.0\n",
      "HeapDict                           1.0.1\n",
      "hpack                              4.0.0\n",
      "html5lib                           1.1\n",
      "Hypercorn                          0.11.2\n",
      "hyperframe                         6.0.0\n",
      "iab-tcf                            0.1.7\n",
      "idna                               2.10\n",
      "imageio                            2.9.0\n",
      "imagesize                          1.2.0\n",
      "importlib-metadata                 1.7.0\n",
      "intervaltree                       3.0.2\n",
      "ipykernel                          5.3.2\n",
      "ipython                            7.16.1\n",
      "ipython-genutils                   0.2.0\n",
      "ipywidgets                         7.5.1\n",
      "isort                              4.3.21\n",
      "itsdangerous                       1.1.0\n",
      "jdcal                              1.4.1\n",
      "jedi                               0.17.1\n",
      "Jinja2                             2.11.2\n",
      "joblib                             0.16.0\n",
      "json5                              0.9.5\n",
      "jsonschema                         3.2.0\n",
      "jupyter                            1.0.0\n",
      "jupyter-client                     6.1.6\n",
      "jupyter-console                    6.1.0\n",
      "jupyter-core                       4.6.3\n",
      "jupyterlab                         2.1.5\n",
      "jupyterlab-server                  1.2.0\n",
      "keyring                            21.2.1\n",
      "kiwisolver                         1.2.0\n",
      "lazy-object-proxy                  1.4.3\n",
      "libarchive-c                       2.9\n",
      "llvmlite                           0.33.0+1.g022ab0f\n",
      "locket                             0.2.0\n",
      "lxml                               4.5.2\n",
      "MarkupSafe                         1.1.1\n",
      "matplotlib                         3.2.2\n",
      "mccabe                             0.6.1\n",
      "menuinst                           1.4.16\n",
      "mistune                            0.8.4\n",
      "mkl-fft                            1.1.0\n",
      "mkl-random                         1.1.1\n",
      "mkl-service                        2.3.0\n",
      "mock                               4.0.2\n",
      "more-itertools                     8.4.0\n",
      "mpmath                             1.1.0\n",
      "msgpack                            1.0.0\n",
      "multipledispatch                   0.6.0\n",
      "murmurhash                         1.0.5\n",
      "navigator-updater                  0.2.1\n",
      "nbconvert                          5.6.1\n",
      "nbformat                           5.0.7\n",
      "networkx                           2.4\n",
      "nltk                               3.5\n",
      "nose                               1.3.7\n",
      "notebook                           6.0.3\n",
      "numba                              0.50.1\n",
      "numexpr                            2.7.1\n",
      "numpy                              1.18.5\n",
      "numpydoc                           1.1.0\n",
      "olefile                            0.46\n",
      "opencv-python                      4.5.3.56\n",
      "openpyxl                           3.0.4\n",
      "packaging                          20.4\n",
      "pandas                             1.0.5\n",
      "pandocfilters                      1.4.2\n",
      "paramiko                           2.7.1\n",
      "parso                              0.7.0\n",
      "partd                              1.1.0\n",
      "path                               13.1.0\n",
      "pathlib2                           2.3.5\n",
      "pathtools                          0.1.2\n",
      "pathy                              0.5.2\n",
      "patsy                              0.5.1\n",
      "peewee                             3.14.0\n",
      "pep8                               1.7.1\n",
      "pexpect                            4.8.0\n",
      "pickleshare                        0.7.5\n",
      "Pillow                             7.2.0\n",
      "pip                                20.1.1\n",
      "pkginfo                            1.5.0.1\n",
      "pluggy                             0.13.1\n",
      "ply                                3.11\n",
      "preshed                            3.0.5\n",
      "priority                           1.3.0\n",
      "prometheus-client                  0.8.0\n",
      "prompt-toolkit                     3.0.5\n",
      "psutil                             5.7.0\n",
      "psycopg2                           2.8.6\n",
      "publicsuffix2                      2.20191221\n",
      "py                                 1.9.0\n",
      "py4j                               0.10.9\n",
      "pyasn1                             0.4.8\n",
      "pyasn1-modules                     0.2.8\n",
      "pycodestyle                        2.6.0\n",
      "pycosat                            0.6.3\n",
      "pycparser                          2.20\n",
      "pycurl                             7.43.0.5\n",
      "pydantic                           1.7.3\n",
      "pydocstyle                         5.0.2\n",
      "pyflakes                           2.2.0\n",
      "Pygments                           2.6.1\n",
      "pylint                             2.5.3\n",
      "PyNaCl                             1.4.0\n",
      "pyodbc                             4.0.0-unsupported\n",
      "pyOpenSSL                          19.1.0\n",
      "pyparsing                          2.4.7\n",
      "PyQt5-Qt5                          5.15.2\n",
      "PyQt5-sip                          12.9.0\n",
      "pyreadline                         2.1\n",
      "pyrsistent                         0.16.0\n",
      "PySocks                            1.7.1\n",
      "pyspark                            3.1.1\n",
      "pytest                             5.4.3\n",
      "pytest-cov                         2.11.1\n",
      "python-dateutil                    2.8.1\n",
      "python-jsonrpc-server              0.3.4\n",
      "python-language-server             0.34.1\n",
      "python-ldap                        3.3.1\n",
      "pytz                               2020.1\n",
      "PyWavelets                         1.1.1\n",
      "pywin32                            227\n",
      "pywin32-ctypes                     0.2.0\n",
      "pywinpty                           0.5.7\n",
      "PyYAML                             5.3.1\n",
      "pyzmq                              19.0.1\n",
      "QDarkStyle                         2.8.1\n",
      "QtAwesome                          0.7.2\n",
      "qtconsole                          4.7.5\n",
      "QtPy                               1.9.0\n",
      "regex                              2020.6.8\n"
     ]
    },
    {
     "name": "stdout",
     "output_type": "stream",
     "text": [
      "requests                           2.24.0\n",
      "requests-file                      1.5.1\n",
      "rope                               0.17.0\n",
      "Rtree                              0.9.4\n",
      "ruamel-yaml                        0.15.87\n",
      "scikit-image                       0.16.2\n",
      "scikit-learn                       0.20.4\n",
      "scipy                              1.5.0\n",
      "seaborn                            0.10.1\n",
      "selenium                           3.141.0\n",
      "Send2Trash                         1.5.0\n",
      "setuptools                         49.2.0.post20200714\n",
      "simplegeneric                      0.8.1\n",
      "singledispatch                     3.4.0.3\n",
      "sip                                4.19.13\n",
      "six                                1.15.0\n",
      "smart-open                         3.0.0\n",
      "snowballstemmer                    2.0.0\n",
      "sortedcollections                  1.2.1\n",
      "sortedcontainers                   2.2.2\n",
      "soupsieve                          2.0.1\n",
      "spacy                              3.0.6\n",
      "spacy-legacy                       3.0.5\n",
      "spark-nlp                          2.6.1\n",
      "Sphinx                             3.1.2\n",
      "sphinxcontrib-applehelp            1.0.2\n",
      "sphinxcontrib-devhelp              1.0.2\n",
      "sphinxcontrib-htmlhelp             1.0.3\n",
      "sphinxcontrib-jsmath               1.0.1\n",
      "sphinxcontrib-qthelp               1.0.3\n",
      "sphinxcontrib-serializinghtml      1.1.4\n",
      "sphinxcontrib-websupport           1.2.3\n",
      "spyder                             4.1.4\n",
      "spyder-kernels                     1.9.2\n",
      "spyder-notebook                    0.3.2\n",
      "SQLAlchemy                         1.3.22\n",
      "srsly                              2.4.1\n",
      "starlette                          0.13.6\n",
      "statsmodels                        0.11.1\n",
      "sympy                              1.6.1\n",
      "tables                             3.6.1\n",
      "tblib                              1.6.0\n",
      "terminado                          0.8.3\n",
      "testpath                           0.4.4\n",
      "thinc                              8.0.3\n",
      "threadpoolctl                      2.1.0\n",
      "tldextract                         2.2.0\n",
      "toml                               0.10.1\n",
      "toolz                              0.10.0\n",
      "torch                              1.8.1\n",
      "torchaudio                         0.7.2\n",
      "torchvision                        0.9.1\n",
      "tornado                            6.0.4\n",
      "tqdm                               4.47.0\n",
      "traitlets                          4.3.3\n",
      "typer                              0.3.2\n",
      "typing-extensions                  3.7.4.2\n",
      "ujson                              1.35\n",
      "unicodecsv                         0.14.1\n",
      "urllib3                            1.25.9\n",
      "wasabi                             0.8.2\n",
      "watchdog                           0.10.3\n",
      "wcwidth                            0.2.5\n",
      "webdriver-manager                  3.3.0\n",
      "webdrivermanager                   0.9.0\n",
      "webencodings                       0.5.1\n",
      "Werkzeug                           1.0.1\n",
      "wheel                              0.34.2\n",
      "widgetsnbextension                 3.5.1\n",
      "win-inet-pton                      1.1.0\n",
      "win-unicode-console                0.5\n",
      "wincertstore                       0.2\n",
      "wrapt                              1.11.2\n",
      "wsproto                            1.0.0\n",
      "xlrd                               1.2.0\n",
      "XlsxWriter                         1.2.9\n",
      "xlwings                            0.19.5\n",
      "xlwt                               1.3.0\n",
      "xmltodict                          0.12.0\n",
      "yapf                               0.30.0\n",
      "zict                               2.0.0\n",
      "zipp                               3.1.0\n",
      "zope.event                         4.4\n",
      "zope.interface                     4.7.1\n"
     ]
    }
   ],
   "source": [
    "!pip list"
   ]
  },
  {
   "cell_type": "code",
   "execution_count": 6,
   "metadata": {},
   "outputs": [
    {
     "name": "stdout",
     "output_type": "stream",
     "text": [
      "Collecting pyqt5\n",
      "  Using cached PyQt5-5.15.4-cp36.cp37.cp38.cp39-none-win_amd64.whl (6.8 MB)\n",
      "Collecting lxml\n",
      "  Using cached lxml-4.6.3-cp38-cp38-win_amd64.whl (3.5 MB)\n",
      "Requirement already satisfied, skipping upgrade: PyQt5-sip<13,>=12.8 in c:\\users\\admin\\anaconda4\\lib\\site-packages (from pyqt5) (12.9.0)\n",
      "Requirement already satisfied, skipping upgrade: PyQt5-Qt5>=5.15 in c:\\users\\admin\\anaconda4\\lib\\site-packages (from pyqt5) (5.15.2)\n",
      "Installing collected packages: pyqt5, lxml\n"
     ]
    },
    {
     "name": "stderr",
     "output_type": "stream",
     "text": [
      "ERROR: spyder 4.1.4 requires pyqtwebengine<5.13; python_version >= \"3\", which is not installed.\n",
      "ERROR: spyder 4.1.4 has requirement pyqt5<5.13; python_version >= \"3\", but you'll have pyqt5 5.15.4 which is incompatible.\n",
      "ERROR: Could not install packages due to an EnvironmentError: [WinError 5] Access is denied: 'C:\\\\Users\\\\Admin\\\\anaconda4\\\\Lib\\\\site-packages\\\\PyQt5\\\\QtCore.pyd'\n",
      "Consider using the `--user` option or check the permissions.\n",
      "\n"
     ]
    }
   ],
   "source": [
    "!pip install --upgrade pyqt5 lxml"
   ]
  },
  {
   "cell_type": "code",
   "execution_count": 10,
   "metadata": {},
   "outputs": [
    {
     "name": "stdout",
     "output_type": "stream",
     "text": [
      "Package                            Version\n",
      "---------------------------------- -------------------\n",
      "alabaster                          0.7.12\n",
      "anaconda-client                    1.7.2\n",
      "anaconda-navigator                 1.9.12\n",
      "anaconda-project                   0.8.3\n",
      "appdirs                            1.4.4\n",
      "argh                               0.26.2\n",
      "asn1crypto                         1.3.0\n",
      "astroid                            2.4.2\n",
      "astropy                            4.0.1.post1\n",
      "atomicwrites                       1.4.0\n",
      "attrs                              19.3.0\n",
      "autopep8                           1.5.3\n",
      "Babel                              2.8.0\n",
      "backcall                           0.2.0\n",
      "backports.functools-lru-cache      1.6.4\n",
      "backports.shutil-get-terminal-size 1.0.0\n",
      "backports.tempfile                 1.0\n",
      "backports.weakref                  1.0.post1\n",
      "bcrypt                             3.1.7\n",
      "beautifulsoup4                     4.9.1\n",
      "bitarray                           1.4.0\n",
      "bitarray-hardbyte                  1.5.2\n",
      "bkcharts                           0.2\n",
      "bleach                             3.1.5\n",
      "blis                               0.7.4\n",
      "bokeh                              2.1.1\n",
      "boto                               2.49.0\n",
      "Bottleneck                         1.3.2\n",
      "brotlipy                           0.7.0\n",
      "browsermob-proxy                   0.8.0\n",
      "catalogue                          2.0.4\n",
      "certifi                            2020.6.20\n",
      "cffi                               1.14.0\n",
      "chardet                            3.0.4\n",
      "click                              7.1.2\n",
      "cloudpickle                        1.5.0\n",
      "clyent                             1.2.2\n",
      "colorama                           0.4.3\n",
      "comtypes                           1.1.7\n",
      "conda                              4.10.3\n",
      "conda-build                        3.18.11\n",
      "conda-package-handling             1.7.3\n",
      "conda-verify                       3.4.2\n",
      "configparser                       5.0.2\n",
      "contextlib2                        0.6.0.post1\n",
      "coverage                           5.5\n",
      "crayons                            0.4.0\n",
      "cryptography                       2.9.2\n",
      "cycler                             0.10.0\n",
      "cymem                              2.0.5\n",
      "Cython                             0.29.22\n",
      "cytoolz                            0.10.1\n",
      "dask                               2.20.0\n",
      "decorator                          4.4.2\n",
      "defusedxml                         0.6.0\n",
      "diff-match-patch                   20200713\n",
      "distributed                        2.20.0\n",
      "docutils                           0.16\n",
      "entrypoints                        0.3\n",
      "et-xmlfile                         1.0.1\n",
      "fastai                             2.3.1\n",
      "fastapi                            0.63.0\n",
      "fastcache                          1.1.0\n",
      "fastcore                           1.3.20\n",
      "fastprogress                       1.0.0\n",
      "filelock                           3.0.12\n",
      "flake8                             3.8.3\n",
      "Flask                              1.1.2\n",
      "fsspec                             0.7.4\n",
      "ftfy                               4.4.3\n",
      "future                             0.18.2\n",
      "geckodriver-autoinstaller          0.1.0\n",
      "gevent                             20.6.2\n",
      "glob2                              0.7\n",
      "gmpy2                              2.0.8\n",
      "greenlet                           0.4.16\n",
      "h11                                0.12.0\n",
      "h2                                 4.0.0\n",
      "h5py                               2.10.0\n",
      "HeapDict                           1.0.1\n",
      "hpack                              4.0.0\n",
      "html5lib                           1.1\n",
      "Hypercorn                          0.11.2\n",
      "hyperframe                         6.0.0\n",
      "iab-tcf                            0.1.7\n",
      "idna                               2.10\n",
      "imageio                            2.9.0\n",
      "imagesize                          1.2.0\n",
      "importlib-metadata                 1.7.0\n",
      "intervaltree                       3.0.2\n",
      "ipykernel                          5.3.2\n",
      "ipython                            7.16.1\n",
      "ipython-genutils                   0.2.0\n",
      "ipywidgets                         7.5.1\n",
      "isort                              4.3.21\n",
      "itsdangerous                       1.1.0\n",
      "jdcal                              1.4.1\n",
      "jedi                               0.17.1\n",
      "Jinja2                             2.11.2\n",
      "joblib                             0.16.0\n",
      "json5                              0.9.5\n",
      "jsonschema                         3.2.0\n",
      "jupyter                            1.0.0\n",
      "jupyter-client                     6.1.6\n",
      "jupyter-console                    6.1.0\n",
      "jupyter-core                       4.6.3\n",
      "jupyterlab                         2.1.5\n",
      "jupyterlab-server                  1.2.0\n",
      "keyring                            21.2.1\n",
      "kiwisolver                         1.2.0\n",
      "lazy-object-proxy                  1.4.3\n",
      "libarchive-c                       2.9\n",
      "llvmlite                           0.33.0+1.g022ab0f\n",
      "locket                             0.2.0\n",
      "lxml                               4.5.2\n",
      "MarkupSafe                         1.1.1\n",
      "matplotlib                         3.2.2\n",
      "mccabe                             0.6.1\n",
      "menuinst                           1.4.16\n",
      "mistune                            0.8.4\n",
      "mkl-fft                            1.1.0\n",
      "mkl-random                         1.1.1\n",
      "mkl-service                        2.3.0\n",
      "mock                               4.0.2\n",
      "more-itertools                     8.4.0\n",
      "mpmath                             1.1.0\n",
      "msgpack                            1.0.0\n",
      "multipledispatch                   0.6.0\n",
      "murmurhash                         1.0.5\n",
      "navigator-updater                  0.2.1\n",
      "nbconvert                          5.6.1\n",
      "nbformat                           5.0.7\n",
      "networkx                           2.4\n",
      "nltk                               3.5\n",
      "nose                               1.3.7\n",
      "notebook                           6.0.3\n",
      "numba                              0.50.1\n",
      "numexpr                            2.7.1\n",
      "numpy                              1.18.5\n",
      "numpydoc                           1.1.0\n",
      "olefile                            0.46\n",
      "opencv-python                      4.5.3.56\n",
      "openpyxl                           3.0.4\n",
      "packaging                          20.4\n",
      "pandas                             1.0.5\n",
      "pandocfilters                      1.4.2\n",
      "paramiko                           2.7.1\n",
      "parso                              0.7.0\n",
      "partd                              1.1.0\n",
      "path                               13.1.0\n",
      "pathlib2                           2.3.5\n",
      "pathtools                          0.1.2\n",
      "pathy                              0.5.2\n",
      "patsy                              0.5.1\n",
      "peewee                             3.14.0\n",
      "pep8                               1.7.1\n",
      "pexpect                            4.8.0\n",
      "pickleshare                        0.7.5\n",
      "Pillow                             7.2.0\n",
      "pip                                20.1.1\n",
      "pkginfo                            1.5.0.1\n",
      "pluggy                             0.13.1\n",
      "ply                                3.11\n",
      "preshed                            3.0.5\n",
      "priority                           1.3.0\n",
      "prometheus-client                  0.8.0\n",
      "prompt-toolkit                     3.0.5\n",
      "psutil                             5.7.0\n",
      "psycopg2                           2.8.6\n",
      "publicsuffix2                      2.20191221\n",
      "py                                 1.9.0\n",
      "py4j                               0.10.9\n",
      "pyasn1                             0.4.8\n",
      "pyasn1-modules                     0.2.8\n",
      "pycodestyle                        2.6.0\n",
      "pycosat                            0.6.3\n",
      "pycparser                          2.20\n",
      "pycurl                             7.43.0.5\n",
      "pydantic                           1.7.3\n",
      "pydocstyle                         5.0.2\n",
      "pyflakes                           2.2.0\n",
      "Pygments                           2.6.1\n",
      "pylint                             2.5.3\n",
      "PyNaCl                             1.4.0\n",
      "pyodbc                             4.0.0-unsupported\n",
      "pyOpenSSL                          19.1.0\n",
      "pyparsing                          2.4.7\n",
      "PyQt5-Qt5                          5.15.2\n",
      "PyQt5-sip                          12.9.0\n",
      "pyreadline                         2.1\n",
      "pyrsistent                         0.16.0\n",
      "PySocks                            1.7.1\n",
      "pyspark                            3.1.1\n",
      "pytest                             5.4.3\n",
      "pytest-cov                         2.11.1\n",
      "python-dateutil                    2.8.1\n",
      "python-jsonrpc-server              0.3.4\n",
      "python-language-server             0.34.1\n",
      "python-ldap                        3.3.1\n",
      "pytz                               2020.1\n",
      "PyWavelets                         1.1.1\n",
      "pywin32                            227\n",
      "pywin32-ctypes                     0.2.0\n",
      "pywinpty                           0.5.7\n",
      "PyYAML                             5.3.1\n",
      "pyzmq                              19.0.1\n",
      "QDarkStyle                         2.8.1\n",
      "QtAwesome                          0.7.2\n",
      "qtconsole                          4.7.5\n",
      "QtPy                               1.9.0\n",
      "regex                              2020.6.8\n",
      "requests                           2.24.0\n",
      "requests-file                      1.5.1\n",
      "rope                               0.17.0\n",
      "Rtree                              0.9.4\n",
      "ruamel-yaml                        0.15.87\n",
      "scikit-image                       0.16.2\n",
      "scikit-learn                       0.20.4\n"
     ]
    },
    {
     "name": "stdout",
     "output_type": "stream",
     "text": [
      "scipy                              1.5.0\n",
      "seaborn                            0.10.1\n",
      "selenium                           3.141.0\n",
      "Send2Trash                         1.5.0\n",
      "setuptools                         49.2.0.post20200714\n",
      "simplegeneric                      0.8.1\n",
      "singledispatch                     3.4.0.3\n",
      "sip                                4.19.13\n",
      "six                                1.15.0\n",
      "smart-open                         3.0.0\n",
      "snowballstemmer                    2.0.0\n",
      "sortedcollections                  1.2.1\n",
      "sortedcontainers                   2.2.2\n",
      "soupsieve                          2.0.1\n",
      "spacy                              3.0.6\n",
      "spacy-legacy                       3.0.5\n",
      "spark-nlp                          2.6.1\n",
      "Sphinx                             3.1.2\n",
      "sphinxcontrib-applehelp            1.0.2\n",
      "sphinxcontrib-devhelp              1.0.2\n",
      "sphinxcontrib-htmlhelp             1.0.3\n",
      "sphinxcontrib-jsmath               1.0.1\n",
      "sphinxcontrib-qthelp               1.0.3\n",
      "sphinxcontrib-serializinghtml      1.1.4\n",
      "sphinxcontrib-websupport           1.2.3\n",
      "spyder                             4.1.4\n",
      "spyder-kernels                     1.9.2\n",
      "spyder-notebook                    0.3.2\n",
      "SQLAlchemy                         1.3.22\n",
      "srsly                              2.4.1\n",
      "starlette                          0.13.6\n",
      "statsmodels                        0.11.1\n",
      "sympy                              1.6.1\n",
      "tables                             3.6.1\n",
      "tblib                              1.6.0\n",
      "terminado                          0.8.3\n",
      "testpath                           0.4.4\n",
      "thinc                              8.0.3\n",
      "threadpoolctl                      2.1.0\n",
      "tldextract                         2.2.0\n",
      "toml                               0.10.1\n",
      "toolz                              0.10.0\n",
      "torch                              1.8.1\n",
      "torchaudio                         0.7.2\n",
      "torchvision                        0.9.1\n",
      "tornado                            6.0.4\n",
      "tqdm                               4.47.0\n",
      "traitlets                          4.3.3\n",
      "typer                              0.3.2\n",
      "typing-extensions                  3.7.4.2\n",
      "ujson                              1.35\n",
      "unicodecsv                         0.14.1\n",
      "urllib3                            1.25.9\n",
      "wasabi                             0.8.2\n",
      "watchdog                           0.10.3\n",
      "wcwidth                            0.2.5\n",
      "webdriver-manager                  3.3.0\n",
      "webdrivermanager                   0.9.0\n",
      "webencodings                       0.5.1\n",
      "Werkzeug                           1.0.1\n",
      "wheel                              0.34.2\n",
      "widgetsnbextension                 3.5.1\n",
      "win-inet-pton                      1.1.0\n",
      "win-unicode-console                0.5\n",
      "wincertstore                       0.2\n",
      "wrapt                              1.11.2\n",
      "wsproto                            1.0.0\n",
      "xlrd                               1.2.0\n",
      "XlsxWriter                         1.2.9\n",
      "xlwings                            0.19.5\n",
      "xlwt                               1.3.0\n",
      "xmltodict                          0.12.0\n",
      "yapf                               0.30.0\n",
      "zict                               2.0.0\n",
      "zipp                               3.1.0\n",
      "zope.event                         4.4\n",
      "zope.interface                     4.7.1\n"
     ]
    }
   ],
   "source": [
    "!pip list"
   ]
  },
  {
   "cell_type": "code",
   "execution_count": 5,
   "metadata": {},
   "outputs": [],
   "source": [
    "LABELIMG_PATH = os.path.join('Tensorflow', 'labelimg')"
   ]
  },
  {
   "cell_type": "code",
   "execution_count": 12,
   "metadata": {},
   "outputs": [
    {
     "name": "stderr",
     "output_type": "stream",
     "text": [
      "'git' is not recognized as an internal or external command,\n",
      "operable program or batch file.\n"
     ]
    }
   ],
   "source": [
    "if not os.path.exists(LABELIMG_PATH):\n",
    "    !mkdir {LABELIMG_PATH}\n",
    "    !git clone https://github.com/tzutalin/labelImg {LABELIMG_PATH}"
   ]
  },
  {
   "cell_type": "code",
   "execution_count": 9,
   "metadata": {},
   "outputs": [
    {
     "name": "stdout",
     "output_type": "stream",
     "text": [
      "Collecting pyqt5"
     ]
    },
    {
     "name": "stderr",
     "output_type": "stream",
     "text": [
      "ERROR: spyder 4.1.4 requires pyqtwebengine<5.13; python_version >= \"3\", which is not installed.\n",
      "ERROR: spyder 4.1.4 has requirement pyqt5<5.13; python_version >= \"3\", but you'll have pyqt5 5.15.4 which is incompatible.\n",
      "ERROR: Could not install packages due to an EnvironmentError: [WinError 5] Access is denied: 'C:\\\\Users\\\\Admin\\\\anaconda4\\\\Lib\\\\site-packages\\\\PyQt5\\\\QtCore.pyd'\n",
      "Consider using the `--user` option or check the permissions.\n",
      "\n"
     ]
    },
    {
     "name": "stdout",
     "output_type": "stream",
     "text": [
      "\n",
      "  Using cached PyQt5-5.15.4-cp36.cp37.cp38.cp39-none-win_amd64.whl (6.8 MB)\n",
      "Requirement already satisfied: PyQt5-Qt5>=5.15 in c:\\users\\admin\\anaconda4\\lib\\site-packages (from pyqt5) (5.15.2)\n",
      "Requirement already satisfied: PyQt5-sip<13,>=12.8 in c:\\users\\admin\\anaconda4\\lib\\site-packages (from pyqt5) (12.9.0)\n",
      "Installing collected packages: pyqt5\n"
     ]
    }
   ],
   "source": [
    "!pip install pyqt5"
   ]
  },
  {
   "cell_type": "code",
   "execution_count": 9,
   "metadata": {},
   "outputs": [
    {
     "name": "stderr",
     "output_type": "stream",
     "text": [
      "Traceback (most recent call last):\n",
      "  File \"C:\\Users\\Admin\\anaconda4\\lib\\runpy.py\", line 194, in _run_module_as_main\n",
      "    return _run_code(code, main_globals, None,\n",
      "  File \"C:\\Users\\Admin\\anaconda4\\lib\\runpy.py\", line 87, in _run_code\n",
      "    exec(code, run_globals)\n",
      "  File \"C:\\Users\\Admin\\anaconda4\\lib\\site-packages\\PyQt5\\pyrcc_main.py\", line 23, in <module>\n",
      "    from .pyrcc import *\n",
      "ImportError: DLL load failed while importing pyrcc: The specified procedure could not be found.\n"
     ]
    }
   ],
   "source": [
    "if os.name == 'posix':\n",
    "    !make qt5py3\n",
    "if os.name =='nt':\n",
    "    !cd {LABELIMG_PATH} && pyrcc5 -o libs/resources.py resources.qrc"
   ]
  },
  {
   "cell_type": "code",
   "execution_count": 7,
   "metadata": {},
   "outputs": [
    {
     "name": "stderr",
     "output_type": "stream",
     "text": [
      "Traceback (most recent call last):\n",
      "  File \"labelImg.py\", line 33, in <module>\n",
      "    from libs.resources import *\n",
      "ModuleNotFoundError: No module named 'libs.resources'\n"
     ]
    }
   ],
   "source": [
    "!cd {LABELIMG_PATH} && python labelImg.py"
   ]
  },
  {
   "cell_type": "code",
   "execution_count": 2,
   "metadata": {},
   "outputs": [],
   "source": [
    "# Import opencv\n",
    "import cv2 \n",
    "import numpy as np\n",
    "from PIL import Image\n",
    "import glob"
   ]
  },
  {
   "cell_type": "code",
   "execution_count": 8,
   "metadata": {},
   "outputs": [
    {
     "data": {
      "text/plain": [
       "'C:\\\\Users\\\\Admin\\\\Documents\\\\masters-project\\\\src\\\\dev\\\\utils'"
      ]
     },
     "execution_count": 8,
     "metadata": {},
     "output_type": "execute_result"
    }
   ],
   "source": [
    "os.getcwd()"
   ]
  },
  {
   "cell_type": "markdown",
   "metadata": {},
   "source": [
    "Rotation"
   ]
  },
  {
   "cell_type": "code",
   "execution_count": 149,
   "metadata": {},
   "outputs": [
    {
     "data": {
      "text/plain": [
       "True"
      ]
     },
     "execution_count": 149,
     "metadata": {},
     "output_type": "execute_result"
    }
   ],
   "source": [
    "image = cv2.imread(\"C:\\\\Users\\\\Admin\\\\Documents\\\\masters-project\\\\resources\\\\labelling\\\\tomatoes\\\\tomatoes_8.png\")\n",
    "height, width = image.shape[:2]\n",
    "rotation_matrix = cv2.getRotationMatrix2D((width/1.2,height/1.2),5,.9)\n",
    "rotated_image = cv2.warpAffine(image,rotation_matrix,(width,height))\n",
    "cv2.imwrite(\"C:\\\\Users\\\\Admin\\\\Documents\\\\masters-project\\\\resources\\\\labelling\\\\tomatoes\\\\tomatoes_8_1.png\",rotated_image)\n"
   ]
  },
  {
   "cell_type": "code",
   "execution_count": 150,
   "metadata": {},
   "outputs": [
    {
     "data": {
      "text/plain": [
       "True"
      ]
     },
     "execution_count": 150,
     "metadata": {},
     "output_type": "execute_result"
    }
   ],
   "source": [
    "height, width = image.shape[:2]\n",
    "rotation_matrix = cv2.getRotationMatrix2D((width/1.2,height/1.2),-5,.9)\n",
    "rotated_image = cv2.warpAffine(image,rotation_matrix,(width,height))\n",
    "cv2.imwrite(\"C:\\\\Users\\\\Admin\\\\Documents\\\\masters-project\\\\resources\\\\labelling\\\\tomatoes\\\\tomatoes_8_2.png\",rotated_image)\n"
   ]
  },
  {
   "cell_type": "markdown",
   "metadata": {},
   "source": [
    "Brightness"
   ]
  },
  {
   "cell_type": "code",
   "execution_count": 151,
   "metadata": {},
   "outputs": [
    {
     "data": {
      "text/plain": [
       "True"
      ]
     },
     "execution_count": 151,
     "metadata": {},
     "output_type": "execute_result"
    }
   ],
   "source": [
    "bright = np.ones(image.shape, dtype=\"uint8\") * 70\n",
    "brightincrease = cv2.add(image,bright)\n",
    "cv2.imwrite(\"C:\\\\Users\\\\Admin\\\\Documents\\\\masters-project\\\\resources\\\\labelling\\\\tomatoes\\\\tomatoes_8_3.png\",brightincrease)\n"
   ]
  },
  {
   "cell_type": "code",
   "execution_count": 152,
   "metadata": {},
   "outputs": [
    {
     "data": {
      "text/plain": [
       "True"
      ]
     },
     "execution_count": 152,
     "metadata": {},
     "output_type": "execute_result"
    }
   ],
   "source": [
    "bright = np.ones(image.shape, dtype=\"uint8\") * 70\n",
    "brightincrease = cv2.subtract(image,bright)\n",
    "cv2.imwrite(\"C:\\\\Users\\\\Admin\\\\Documents\\\\masters-project\\\\resources\\\\labelling\\\\tomatoes\\\\tomatoes_8_4.png\",brightincrease)\n"
   ]
  },
  {
   "cell_type": "markdown",
   "metadata": {},
   "source": [
    "Flipping"
   ]
  },
  {
   "cell_type": "code",
   "execution_count": 153,
   "metadata": {},
   "outputs": [
    {
     "data": {
      "text/plain": [
       "True"
      ]
     },
     "execution_count": 153,
     "metadata": {},
     "output_type": "execute_result"
    }
   ],
   "source": [
    "flip = cv2.flip(image,3)\n",
    "cv2.imwrite(\"C:\\\\Users\\\\Admin\\\\Documents\\\\masters-project\\\\resources\\\\labelling\\\\tomatoes\\\\tomatoes_8_5.png\",flip)\n"
   ]
  },
  {
   "cell_type": "markdown",
   "metadata": {},
   "source": [
    "Sharpening"
   ]
  },
  {
   "cell_type": "code",
   "execution_count": 154,
   "metadata": {},
   "outputs": [
    {
     "data": {
      "text/plain": [
       "True"
      ]
     },
     "execution_count": 154,
     "metadata": {},
     "output_type": "execute_result"
    }
   ],
   "source": [
    "sharpening = np.array([[-1,-1,-1],[-1,10,-1],[-1,-1,-1]])\n",
    "sharpened = cv2.filter2D(image,-1,sharpening)\n",
    "cv2.imwrite(\"C:\\\\Users\\\\Admin\\\\Documents\\\\masters-project\\\\resources\\\\labelling\\\\tomatoes\\\\tomatoes_8_6.png\",sharpened)\n"
   ]
  },
  {
   "cell_type": "markdown",
   "metadata": {},
   "source": [
    "# 6. Move them into a Training and Testing Partition"
   ]
  },
  {
   "cell_type": "markdown",
   "metadata": {},
   "source": [
    "# OPTIONAL - 7. Compress them for Colab Training"
   ]
  },
  {
   "cell_type": "code",
   "execution_count": 20,
   "metadata": {},
   "outputs": [],
   "source": [
    "TRAIN_PATH = os.path.join('Tensorflow', 'workspace', 'images', 'train')\n",
    "TEST_PATH = os.path.join('Tensorflow', 'workspace', 'images', 'test')\n",
    "ARCHIVE_PATH = os.path.join('Tensorflow', 'workspace', 'images', 'archive.tar.gz')"
   ]
  },
  {
   "cell_type": "code",
   "execution_count": 21,
   "metadata": {},
   "outputs": [],
   "source": [
    "!tar -czf {ARCHIVE_PATH} {TRAIN_PATH} {TEST_PATH}"
   ]
  },
  {
   "cell_type": "code",
   "execution_count": null,
   "metadata": {},
   "outputs": [],
   "source": []
  }
 ],
 "metadata": {
  "kernelspec": {
   "display_name": "tfod",
   "language": "python",
   "name": "tfod"
  },
  "language_info": {
   "codemirror_mode": {
    "name": "ipython",
    "version": 3
   },
   "file_extension": ".py",
   "mimetype": "text/x-python",
   "name": "python",
   "nbconvert_exporter": "python",
   "pygments_lexer": "ipython3",
   "version": "3.8.3"
  }
 },
 "nbformat": 4,
 "nbformat_minor": 2
}
